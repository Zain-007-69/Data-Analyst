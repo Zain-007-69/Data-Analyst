{
 "cells": [
  {
   "cell_type": "markdown",
   "metadata": {},
   "source": [
    "# **AI and ML Jobs Analysis**"
   ]
  },
  {
   "cell_type": "code",
   "execution_count": 2,
   "metadata": {},
   "outputs": [],
   "source": [
    "import pandas as pd \n",
    "import matplotlib.pyplot as plt\n",
    "import seaborn as sns"
   ]
  },
  {
   "cell_type": "code",
   "execution_count": 3,
   "metadata": {},
   "outputs": [
    {
     "data": {
      "text/html": [
       "<div>\n",
       "<style scoped>\n",
       "    .dataframe tbody tr th:only-of-type {\n",
       "        vertical-align: middle;\n",
       "    }\n",
       "\n",
       "    .dataframe tbody tr th {\n",
       "        vertical-align: top;\n",
       "    }\n",
       "\n",
       "    .dataframe thead th {\n",
       "        text-align: right;\n",
       "    }\n",
       "</style>\n",
       "<table border=\"1\" class=\"dataframe\">\n",
       "  <thead>\n",
       "    <tr style=\"text-align: right;\">\n",
       "      <th></th>\n",
       "      <th>Title</th>\n",
       "      <th>Company</th>\n",
       "      <th>Location</th>\n",
       "      <th>Type of Positions</th>\n",
       "      <th>Job Description</th>\n",
       "      <th>Salary</th>\n",
       "      <th>Identified_Skills</th>\n",
       "    </tr>\n",
       "  </thead>\n",
       "  <tbody>\n",
       "    <tr>\n",
       "      <th>0</th>\n",
       "      <td>Staff Applied Scientist, Marketplace</td>\n",
       "      <td>ThredUp Inc.</td>\n",
       "      <td>CA</td>\n",
       "      <td>Full-time</td>\n",
       "      <td>\\nAbout thredUP thredUP is transforming resale...</td>\n",
       "      <td>190000.0</td>\n",
       "      <td>['python', 'machine learning', 'aws', 'sql']</td>\n",
       "    </tr>\n",
       "    <tr>\n",
       "      <th>1</th>\n",
       "      <td>Prompt Engineer for Generative AI (chatbot and...</td>\n",
       "      <td>Vicarious Talent Agency</td>\n",
       "      <td>WA</td>\n",
       "      <td>Full-time</td>\n",
       "      <td>We are Vicarious, a talent agency that represe...</td>\n",
       "      <td>70000.0</td>\n",
       "      <td>['python', 'machine learning', 'deep learning'...</td>\n",
       "    </tr>\n",
       "    <tr>\n",
       "      <th>2</th>\n",
       "      <td>Data Systems Analyst/Architect</td>\n",
       "      <td>General Dynamics Information Technology</td>\n",
       "      <td>Remote</td>\n",
       "      <td>Full-time</td>\n",
       "      <td>Clearance Level None Category Data Science Loc...</td>\n",
       "      <td>104000.0</td>\n",
       "      <td>['machine learning', 'aws', 'azure', 'nosql', ...</td>\n",
       "    </tr>\n",
       "    <tr>\n",
       "      <th>3</th>\n",
       "      <td>AIOps Principle Data Scientist</td>\n",
       "      <td>CVS Health</td>\n",
       "      <td>CT</td>\n",
       "      <td>Full-time</td>\n",
       "      <td>\\nBring your heart to CVS Health. Every one of...</td>\n",
       "      <td>140000.0</td>\n",
       "      <td>['python', 'machine learning', 'aws', 'gcp']</td>\n",
       "    </tr>\n",
       "    <tr>\n",
       "      <th>4</th>\n",
       "      <td>Sr. Data Scientist</td>\n",
       "      <td>Altak Group</td>\n",
       "      <td>Remote</td>\n",
       "      <td>Full-time</td>\n",
       "      <td>Job Summary:\\nWe are seeking an experienced Da...</td>\n",
       "      <td>136000.0</td>\n",
       "      <td>['python', 'machine learning', 'tableau', 'aws...</td>\n",
       "    </tr>\n",
       "  </tbody>\n",
       "</table>\n",
       "</div>"
      ],
      "text/plain": [
       "                                               Title  \\\n",
       "0               Staff Applied Scientist, Marketplace   \n",
       "1  Prompt Engineer for Generative AI (chatbot and...   \n",
       "2                     Data Systems Analyst/Architect   \n",
       "3                     AIOps Principle Data Scientist   \n",
       "4                                 Sr. Data Scientist   \n",
       "\n",
       "                                   Company Location Type of Positions  \\\n",
       "0                             ThredUp Inc.       CA         Full-time   \n",
       "1                  Vicarious Talent Agency       WA         Full-time   \n",
       "2  General Dynamics Information Technology   Remote         Full-time   \n",
       "3                               CVS Health       CT         Full-time   \n",
       "4                              Altak Group   Remote         Full-time   \n",
       "\n",
       "                                     Job Description    Salary  \\\n",
       "0  \\nAbout thredUP thredUP is transforming resale...  190000.0   \n",
       "1  We are Vicarious, a talent agency that represe...   70000.0   \n",
       "2  Clearance Level None Category Data Science Loc...  104000.0   \n",
       "3  \\nBring your heart to CVS Health. Every one of...  140000.0   \n",
       "4  Job Summary:\\nWe are seeking an experienced Da...  136000.0   \n",
       "\n",
       "                                   Identified_Skills  \n",
       "0       ['python', 'machine learning', 'aws', 'sql']  \n",
       "1  ['python', 'machine learning', 'deep learning'...  \n",
       "2  ['machine learning', 'aws', 'azure', 'nosql', ...  \n",
       "3       ['python', 'machine learning', 'aws', 'gcp']  \n",
       "4  ['python', 'machine learning', 'tableau', 'aws...  "
      ]
     },
     "execution_count": 3,
     "metadata": {},
     "output_type": "execute_result"
    }
   ],
   "source": [
    "df = pd.read_csv('final_job_list.csv')\n",
    "df.head()"
   ]
  },
  {
   "cell_type": "markdown",
   "metadata": {},
   "source": [
    "### **Grouping Titles**"
   ]
  },
  {
   "cell_type": "code",
   "execution_count": 4,
   "metadata": {},
   "outputs": [
    {
     "data": {
      "text/html": [
       "<div>\n",
       "<style scoped>\n",
       "    .dataframe tbody tr th:only-of-type {\n",
       "        vertical-align: middle;\n",
       "    }\n",
       "\n",
       "    .dataframe tbody tr th {\n",
       "        vertical-align: top;\n",
       "    }\n",
       "\n",
       "    .dataframe thead th {\n",
       "        text-align: right;\n",
       "    }\n",
       "</style>\n",
       "<table border=\"1\" class=\"dataframe\">\n",
       "  <thead>\n",
       "    <tr style=\"text-align: right;\">\n",
       "      <th></th>\n",
       "      <th>0</th>\n",
       "    </tr>\n",
       "  </thead>\n",
       "  <tbody>\n",
       "    <tr>\n",
       "      <th>0</th>\n",
       "      <td>(No C2C) Sr Data Engineer with Machine Learning</td>\n",
       "    </tr>\n",
       "    <tr>\n",
       "      <th>1</th>\n",
       "      <td>AI &amp; Data Solutions Architect</td>\n",
       "    </tr>\n",
       "    <tr>\n",
       "      <th>2</th>\n",
       "      <td>AI Architect</td>\n",
       "    </tr>\n",
       "    <tr>\n",
       "      <th>3</th>\n",
       "      <td>AI Data Engineer</td>\n",
       "    </tr>\n",
       "    <tr>\n",
       "      <th>4</th>\n",
       "      <td>AI Engineer</td>\n",
       "    </tr>\n",
       "  </tbody>\n",
       "</table>\n",
       "</div>"
      ],
      "text/plain": [
       "                                                 0\n",
       "0  (No C2C) Sr Data Engineer with Machine Learning\n",
       "1                    AI & Data Solutions Architect\n",
       "2                                     AI Architect\n",
       "3                                 AI Data Engineer\n",
       "4                                      AI Engineer"
      ]
     },
     "execution_count": 4,
     "metadata": {},
     "output_type": "execute_result"
    }
   ],
   "source": [
    "titles = pd.DataFrame(pd.DataFrame(df.groupby('Title'))[0])\n",
    "titles.head()"
   ]
  },
  {
   "cell_type": "markdown",
   "metadata": {},
   "source": [
    "### **Grouping Companies**"
   ]
  },
  {
   "cell_type": "code",
   "execution_count": 5,
   "metadata": {},
   "outputs": [
    {
     "data": {
      "text/html": [
       "<div>\n",
       "<style scoped>\n",
       "    .dataframe tbody tr th:only-of-type {\n",
       "        vertical-align: middle;\n",
       "    }\n",
       "\n",
       "    .dataframe tbody tr th {\n",
       "        vertical-align: top;\n",
       "    }\n",
       "\n",
       "    .dataframe thead th {\n",
       "        text-align: right;\n",
       "    }\n",
       "</style>\n",
       "<table border=\"1\" class=\"dataframe\">\n",
       "  <thead>\n",
       "    <tr style=\"text-align: right;\">\n",
       "      <th></th>\n",
       "      <th>0</th>\n",
       "    </tr>\n",
       "  </thead>\n",
       "  <tbody>\n",
       "    <tr>\n",
       "      <th>0</th>\n",
       "      <td>Advanced Sterilization Products</td>\n",
       "    </tr>\n",
       "    <tr>\n",
       "      <th>1</th>\n",
       "      <td>Afresh</td>\n",
       "    </tr>\n",
       "    <tr>\n",
       "      <th>2</th>\n",
       "      <td>Agilon Health</td>\n",
       "    </tr>\n",
       "    <tr>\n",
       "      <th>3</th>\n",
       "      <td>Airbnb</td>\n",
       "    </tr>\n",
       "    <tr>\n",
       "      <th>4</th>\n",
       "      <td>Albertsons Companies</td>\n",
       "    </tr>\n",
       "  </tbody>\n",
       "</table>\n",
       "</div>"
      ],
      "text/plain": [
       "                                 0\n",
       "0  Advanced Sterilization Products\n",
       "1                           Afresh\n",
       "2                    Agilon Health\n",
       "3                           Airbnb\n",
       "4             Albertsons Companies"
      ]
     },
     "execution_count": 5,
     "metadata": {},
     "output_type": "execute_result"
    }
   ],
   "source": [
    "company = pd.DataFrame(pd.DataFrame(df.groupby('Company'))[0])\n",
    "company.head()"
   ]
  },
  {
   "cell_type": "markdown",
   "metadata": {},
   "source": [
    "### **Grouping Locations**"
   ]
  },
  {
   "cell_type": "code",
   "execution_count": 6,
   "metadata": {},
   "outputs": [
    {
     "data": {
      "text/html": [
       "<div>\n",
       "<style scoped>\n",
       "    .dataframe tbody tr th:only-of-type {\n",
       "        vertical-align: middle;\n",
       "    }\n",
       "\n",
       "    .dataframe tbody tr th {\n",
       "        vertical-align: top;\n",
       "    }\n",
       "\n",
       "    .dataframe thead th {\n",
       "        text-align: right;\n",
       "    }\n",
       "</style>\n",
       "<table border=\"1\" class=\"dataframe\">\n",
       "  <thead>\n",
       "    <tr style=\"text-align: right;\">\n",
       "      <th></th>\n",
       "      <th>0</th>\n",
       "    </tr>\n",
       "  </thead>\n",
       "  <tbody>\n",
       "    <tr>\n",
       "      <th>0</th>\n",
       "      <td>AK</td>\n",
       "    </tr>\n",
       "    <tr>\n",
       "      <th>1</th>\n",
       "      <td>AL</td>\n",
       "    </tr>\n",
       "    <tr>\n",
       "      <th>2</th>\n",
       "      <td>AR</td>\n",
       "    </tr>\n",
       "    <tr>\n",
       "      <th>3</th>\n",
       "      <td>AZ</td>\n",
       "    </tr>\n",
       "    <tr>\n",
       "      <th>4</th>\n",
       "      <td>CA</td>\n",
       "    </tr>\n",
       "  </tbody>\n",
       "</table>\n",
       "</div>"
      ],
      "text/plain": [
       "    0\n",
       "0  AK\n",
       "1  AL\n",
       "2  AR\n",
       "3  AZ\n",
       "4  CA"
      ]
     },
     "execution_count": 6,
     "metadata": {},
     "output_type": "execute_result"
    }
   ],
   "source": [
    "location = pd.DataFrame(pd.DataFrame(df.groupby('Location'))[0])\n",
    "location.head()"
   ]
  },
  {
   "cell_type": "markdown",
   "metadata": {},
   "source": [
    "### **Only available type of positions**"
   ]
  },
  {
   "cell_type": "code",
   "execution_count": 7,
   "metadata": {},
   "outputs": [
    {
     "data": {
      "text/html": [
       "<div>\n",
       "<style scoped>\n",
       "    .dataframe tbody tr th:only-of-type {\n",
       "        vertical-align: middle;\n",
       "    }\n",
       "\n",
       "    .dataframe tbody tr th {\n",
       "        vertical-align: top;\n",
       "    }\n",
       "\n",
       "    .dataframe thead th {\n",
       "        text-align: right;\n",
       "    }\n",
       "</style>\n",
       "<table border=\"1\" class=\"dataframe\">\n",
       "  <thead>\n",
       "    <tr style=\"text-align: right;\">\n",
       "      <th></th>\n",
       "      <th>0</th>\n",
       "    </tr>\n",
       "  </thead>\n",
       "  <tbody>\n",
       "    <tr>\n",
       "      <th>0</th>\n",
       "      <td>Full-time</td>\n",
       "    </tr>\n",
       "  </tbody>\n",
       "</table>\n",
       "</div>"
      ],
      "text/plain": [
       "           0\n",
       "0  Full-time"
      ]
     },
     "execution_count": 7,
     "metadata": {},
     "output_type": "execute_result"
    }
   ],
   "source": [
    "pd.DataFrame(pd.DataFrame(df.groupby('Type of Positions'))[0])"
   ]
  },
  {
   "cell_type": "markdown",
   "metadata": {},
   "source": [
    "## **Complete Analysis**"
   ]
  },
  {
   "cell_type": "markdown",
   "metadata": {},
   "source": [
    "## **1. Job Role and Company Overview:**"
   ]
  },
  {
   "cell_type": "markdown",
   "metadata": {},
   "source": [
    "### What are the key responsibilities and qualifications required for particular title position at particular company?"
   ]
  },
  {
   "cell_type": "code",
   "execution_count": 30,
   "metadata": {},
   "outputs": [
    {
     "name": "stdout",
     "output_type": "stream",
     "text": [
      "[\"['python', 'machine learning', 'aws', 'sql']\"]\n"
     ]
    }
   ],
   "source": [
    "def skills_required(title,company):\n",
    "    skills = pd.DataFrame(df[(df['Title'] == title) & (df['Company'] == company)]['Identified_Skills'])\n",
    "    return skills.values[0] if not skills.empty else None\n",
    "print(skills_required('Staff Applied Scientist, Marketplace','ThredUp Inc.'))"
   ]
  },
  {
   "cell_type": "markdown",
   "metadata": {},
   "source": [
    "### How does any particular company describe its mission and role in the particular industry?"
   ]
  },
  {
   "cell_type": "code",
   "execution_count": 29,
   "metadata": {},
   "outputs": [
    {
     "data": {
      "text/plain": [
       "\"\\nAbout thredUP thredUP is transforming resale with technology and a mission to inspire a new generation of consumers to think secondhand first. By making it easy to buy and sell secondhand, thredUP has become one of the world's largest online resale platforms for apparel, shoes and accessories. Sellers love thredUP because we make it easy to clean out their closets and unlock value for themselves or for the charity of their choice while doing good for the planet. Buyers love shopping value, premium and luxury brands all in one place, at up to 90% off estimated retail price. Our proprietary operating platform is the foundation for our managed marketplace and consists of distributed processing infrastructure, proprietary software and systems and data science expertise. With thredUP's Resale-as-a-Service, some of the world's leading brands and retailers are leveraging our platform to deliver customizable, scalable resale experiences to their customers. thredUP has processed over 172 million unique secondhand items from 55,000 brands across 100 categories. By extending the life cycle of clothing, thredUP is changing the way consumers shop and ushering in a more sustainable future for the fashion industry.\\n\\nJob Description\\nAs thredUP leads the charge in sustainable fashion, we seek an Applied Scientist with a focus on pricing and marketplace optimization. Your role is to balance the equation between supply and demand, using your expertise in economics and data science to optimize our two-sided marketplace. This position calls for an analytical savant who is passionate about modeling complex systems and generating insights that drive strategic pricing and marketplace health.  How You Will Make an Impact:\\nAs an Applied Scientist, your work will be pivotal in creating an equilibrium that benefits both sellers and buyers, ensuring competitive pricing while maintaining healthy marketplace dynamics. By crafting and refining pricing algorithms, you will directly contribute to thredUP’s mission of inspiring a new generation to think secondhand first.\\n\\nIn This Role You’ll Get To:\\n\\n Develop and implement dynamic pricing models to optimize marketplace liquidity and profitability.\\n Conduct in-depth analysis of marketplace trends to inform pricing strategies and inventory selection.\\n Utilize econometric methods to forecast market behaviors and identify revenue-maximizing opportunities.\\n Collaborate with data science and engineering teams to integrate your models into our marketplace platform.\\n Design and analyze A/B tests to understand the impact of pricing strategies on customer behavior and marketplace performance.\\n Provide thought leadership on marketplace economics, influencing strategic decisions across the company.\\n\\n\\n What we are looking for:\\n\\n M.S or Ph.D.degree in Economics, Statistics, Applied Mathematics, or a related field.\\n 3+ years of industry experience as Applied or Data Scientist or equivalent\\n Experience applying machine learning techniques and statistical analysis to complex economic problems.\\n Proficiency in data querying and manipulation with SQL, along with programming skills in Python.\\n Experience with big data technologies\\n Experience communicating complex concepts clearly to cross-functional teams.\\n Experience with optimization modeling techniques (Linear Programming, Mixed Integer Programming) and advanced statistical modeling techniques\\n\\n\\n Preferred but not required:\\n\\n 6+ years of industry experience\\n Familiarity with AWS\\n Experience in marketplace dynamics or pricing strategy\\n\\n\\n At thredUP, your base pay is one part of your total compensation package. This role pays between $190,000 and $230,000, and your actual base pay will depend on your skills, qualifications, experience, and location.  Many thredUP employees also have the opportunity to own shares of thredUP stock. thredUP employees are eligible for discretionary restricted stock unit awards, as well as a discount when purchasing thredUP stock if voluntarily participating in thredUP’s Employee Stock Purchase Plan. Subject to eligibility requirements, you’ll also receive other benefits: Comprehensive medical & dental coverage, vision, 401k, life and disability insurance.\\n What We Offer:\\n\\n 4-day work week, with Fridays off\\n Hybrid work environment: 3 days in the office and 1 day remote each week\\n Competitive salary (we leverage market data)\\n Many thredUP employees also have the opportunity to own shares of thredUP stock and are eligible for discretionary restricted stock unit awards\\n Employee stock purchase plan\\n Flexible PTO (take the time you need) + 13 company holidays\\n Paid Sabbatical after 3 years of full time employment\\n Generous paid parental leave for new mothers and fathers\\n Medical, dental, vision, 401k, life and disability insurance offered\\n We live by our Core Values of Transparency, SpeakingUP, Thinking Big, Infinite Learning, Influencing Outcomes & Seeking the Truth\\n TIME Magazine’s Most Influential Companies of 2023, WWD’s Most Influential ESG Leaders, TIME Magazine’s Best Inventions 2022, Shoptalk’s ATLIS Awards, Business Insider’s Retail Tech Power Players, Inc.’s Power Partner Awards, Lattice’s People Success Awards, Digiday's WorkLife 50 award\\n RaaS - Inc. Magazine, 2022 Power Partner Awards\\n Thrift the Look– TIME Magazine, The Best Inventions of 2022\\n Winner of Lattice's “People Vision” - recognizing thredUP as a top place to work for our investment in professional development and our innovations in work-life integration\\n\\n\\n We believe diversity, inclusion and belonging is key for our team\\n At thredUP, our mission has been built on extending the lives of millions of unique clothing items. Much like our inventory, we are proud to have fostered a workplace that is one-of-a-kind. As a company focused on diversity, inclusion and belonging, we are committed to ensuring our employees are comfortable bringing their authentic selves to work every day. A unique perspective is critical to solving complex problems and inspiring a new generation to think secondhand first. Be you.\\n\\n If you are a candidate with a disability and have a reasonable accommodation request for the job application process, please email disabilitysupport@thredup.com the specific details of your disability related accommodation request. This email address is reserved for candidates with disabilities only. General application inquiries will not receive a response.\\n\""
      ]
     },
     "execution_count": 29,
     "metadata": {},
     "output_type": "execute_result"
    }
   ],
   "source": [
    "def find_mission_and_rule(job_desc,company):\n",
    "    mission = df[(df['Job Description'].str.contains(job_desc)) & (df['Company'] == company) ]['Job Description']\n",
    "    return mission.values[0] if not mission.empty else None\n",
    "\n",
    "find_mission_and_rule('fashion industry','ThredUp Inc.')"
   ]
  },
  {
   "cell_type": "markdown",
   "metadata": {},
   "source": [
    "## **2. Technologies and Methodologies:**"
   ]
  },
  {
   "cell_type": "markdown",
   "metadata": {},
   "source": [
    "### What technologies and methodologies are mentioned in the job description for the particular position at particular company?"
   ]
  },
  {
   "cell_type": "code",
   "execution_count": 33,
   "metadata": {},
   "outputs": [
    {
     "data": {
      "text/plain": [
       "\"['python', 'machine learning', 'aws', 'sql']\""
      ]
     },
     "execution_count": 33,
     "metadata": {},
     "output_type": "execute_result"
    }
   ],
   "source": [
    "def job_description(title,job_desc):\n",
    "    tech = df[(df['Title'] == title) & (df['Job Description'] == job_desc)]['Identified_Skills']\n",
    "    return tech.values[0] if not tech.empty else None\n",
    "\n",
    "job_description('Staff Applied Scientist, Marketplace',\"\"\"\\nAbout thredUP thredUP is transforming resale with technology \n",
    "                and a mission to inspire a new generation of consumers to think secondhand first. By making it easy to buy \n",
    "                and sell secondhand, thredUP has become one of the world's largest online resale platforms for apparel, shoes \n",
    "                and accessories. Sellers love thredUP because we make it easy to clean out their closets and unlock value for \n",
    "                themselves or for the charity of their choice while doing good for the planet. Buyers love shopping value, premium \n",
    "                and luxury brands all in one place, at up to 90% off estimated retail price. Our proprietary operating platform \n",
    "                is the foundation for our managed marketplace and consists of distributed processing infrastructure, proprietary \n",
    "                software and systems and data science expertise. With thredUP's Resale-as-a-Service, some of the world's leading \n",
    "                brands and retailers are leveraging our platform to deliver customizable, scalable resale experiences to their \n",
    "                customers. thredUP has processed over 172 million unique secondhand items from 55,000 brands across 100 categories. \n",
    "                By extending the life cycle of clothing, thredUP is changing the way consumers shop and ushering in a more sustainable \n",
    "                future for the fashion industry.\\n\\nJob Description\\nAs thredUP leads the charge in sustainable fashion, we seek an \n",
    "                Applied Scientist with a focus on pricing and marketplace optimization. Your role is to balance the equation between \n",
    "                supply and demand, using your expertise in economics and data science to optimize our two-sided marketplace. \n",
    "                This position calls for an analytical savant who is passionate about modeling complex systems and generating insights \n",
    "                that drive strategic pricing and marketplace health.  How You Will Make an Impact:\\nAs an Applied Scientist, your work \n",
    "                will be pivotal in creating an equilibrium that benefits both sellers and buyers, ensuring competitive pricing while \n",
    "                maintaining healthy marketplace dynamics. By crafting and refining pricing algorithms, you will directly contribute \n",
    "                to thredUP’s mission of inspiring a new generation to think secondhand first.\\n\\nIn This Role You’ll Get To:\\n\\n Develop \n",
    "                and implement dynamic pricing models to optimize marketplace liquidity and profitability.\\n Conduct in-depth analysis \n",
    "                of marketplace trends to inform pricing strategies and inventory selection.\\n Utilize econometric methods to forecast \n",
    "                market behaviors and identify revenue-maximizing opportunities.\\n Collaborate with data science and engineering teams \n",
    "                to integrate your models into our marketplace platform.\\n Design and analyze A/B tests to understand the impact of \n",
    "                pricing strategies on customer behavior and marketplace performance.\\n Provide thought leadership on marketplace \n",
    "                economics, influencing strategic decisions across the company.\\n\\n\\n What we are looking for:\\n\\n M.S or Ph.D.degree \n",
    "                in Economics, Statistics, Applied Mathematics, or a related field.\\n 3+ years of industry experience as Applied or \n",
    "                Data Scientist or equivalent\\n Experience applying machine learning techniques and statistical analysis to complex \n",
    "                economic problems.\\n Proficiency in data querying and manipulation with SQL, along with programming skills in \n",
    "                Python.\\n Experience with big data technologies\\n Experience communicating complex concepts clearly to \n",
    "                cross-functional teams.\\n Experience with optimization modeling techniques (Linear Programming, Mixed Integer \n",
    "                Programming) and advanced statistical modeling techniques\\n\\n\\n Preferred but not required:\\n\\n 6+ years of \n",
    "                industry experience\\n Familiarity with AWS\\n Experience in marketplace dynamics or pricing strategy\\n\\n\\n At \n",
    "                thredUP, your base pay is one part of your total compensation package. This role pays between $190,000 and $230,000, \n",
    "                and your actual base pay will depend on your skills, qualifications, experience, and location.  Many thredUP \n",
    "                employees also have the opportunity to own shares of thredUP stock. thredUP employees are eligible for discretionary \n",
    "                restricted stock unit awards, as well as a discount when purchasing thredUP stock if voluntarily participating \n",
    "                in thredUP’s Employee Stock Purchase Plan. Subject to eligibility requirements, you’ll also receive other benefits: \n",
    "                Comprehensive medical & dental coverage, vision, 401k, life and disability insurance.\\n What We Offer:\\n\\n 4-day work \n",
    "                week, with Fridays off\\n Hybrid work environment: 3 days in the office and 1 day remote each week\\n Competitive salary \n",
    "                (we leverage market data)\\n Many thredUP employees also have the opportunity to own shares of thredUP stock and are \n",
    "                eligible for discretionary restricted stock unit awards\\n Employee stock purchase plan\\n Flexible PTO (take the time \n",
    "                you need) + 13 company holidays\\n Paid Sabbatical after 3 years of full time employment\\n Generous paid parental leave \n",
    "                for new mothers and fathers\\n Medical, dental, vision, 401k, life and disability insurance offered\\n We live by our \n",
    "                Core Values of Transparency, SpeakingUP, Thinking Big, Infinite Learning, Influencing Outcomes & Seeking the Truth\\n \n",
    "                TIME Magazine’s Most Influential Companies of 2023, WWD’s Most Influential ESG Leaders, TIME Magazine’s Best \n",
    "                Inventions 2022, Shoptalk’s ATLIS Awards, Business Insider’s Retail Tech Power Players, Inc.’s Power Partner Awards, \n",
    "                Lattice’s People Success Awards, Digiday's WorkLife 50 award\\n RaaS - Inc. Magazine, 2022 Power Partner Awards\\n \n",
    "                Thrift the Look– TIME Magazine, The Best Inventions of 2022\\n Winner of Lattice's “People Vision” - recognizing \n",
    "                thredUP as a top place to work for our investment in professional development and our innovations in work-life \n",
    "                integration\\n\\n\\n We believe diversity, inclusion and belonging is key for our team\\n At thredUP, our mission has \n",
    "                been built on extending the lives of millions of unique clothing items. Much like our inventory, we are proud to \n",
    "                have fostered a workplace that is one-of-a-kind. As a company focused on diversity, inclusion and belonging, we \n",
    "                are committed to ensuring our employees are comfortable bringing their authentic selves to work every day. A unique \n",
    "                perspective is critical to solving complex problems and inspiring a new generation to think secondhand first. \n",
    "                Be you.\\n\\n If you are a candidate with a disability and have a reasonable accommodation request for the job \n",
    "                application process, please email disabilitysupport@thredup.com the specific details of your disability related \n",
    "                accommodation request. This email address is reserved for candidates with disabilities only. General application \n",
    "                inquiries will not receive a response.\\n\"\"\")"
   ]
  },
  {
   "cell_type": "markdown",
   "metadata": {},
   "source": [
    "## **3. Compensation and Benefits:**"
   ]
  },
  {
   "cell_type": "markdown",
   "metadata": {},
   "source": [
    "### Can you provide a breakdown of the compensation package offered by ThredUp Inc. for the Staff Applied Scientist position?"
   ]
  },
  {
   "cell_type": "code",
   "execution_count": 23,
   "metadata": {},
   "outputs": [
    {
     "name": "stdout",
     "output_type": "stream",
     "text": [
      "Expected package is  190000.0\n"
     ]
    }
   ],
   "source": [
    "def package(title,company):\n",
    "    package = df[(df['Title'] == title) & (df['Company'] == company)]['Salary']\n",
    "    package = package.values[0] if not package.empty else None\n",
    "    print(f'Expected package is ',package)\n",
    "\n",
    "package('Staff Applied Scientist, Marketplace','ThredUp Inc.')"
   ]
  },
  {
   "cell_type": "markdown",
   "metadata": {},
   "source": [
    "### What benefits and perks are available to employees at ThredUp Inc.?"
   ]
  },
  {
   "cell_type": "code",
   "execution_count": 41,
   "metadata": {},
   "outputs": [
    {
     "name": "stdout",
     "output_type": "stream",
     "text": [
      "Expected Salary is 190000.0\n",
      "Location would be CA\n",
      "Type of Position would be Full-time\n",
      "Skills Required for this are ['python', 'machine learning', 'aws', 'sql']\n"
     ]
    }
   ],
   "source": [
    "def benefits_and_perks(company):\n",
    "    benefits_salary = df[df['Company'] == company]['Salary']\n",
    "    benefits_salary = benefits_salary.values[0] if not benefits_salary.empty else None\n",
    "    \n",
    "    benefits_location = df[df['Company'] == company]['Location']\n",
    "    benefits_location = benefits_location.values[0] if not benefits_location.empty else None\n",
    "    \n",
    "    benefits_top = df[df['Company'] == company]['Type of Positions']\n",
    "    benefits_top = benefits_top.values[0] if not benefits_top.empty else None\n",
    "    \n",
    "    benefits_skills = df[df['Company'] == company]['Identified_Skills']\n",
    "    benefits_skills = benefits_skills.values[0] if not benefits_skills.empty else None\n",
    "    \n",
    "    print(f\"\"\"Expected Salary is {benefits_salary}\n",
    "Location would be {benefits_location}\n",
    "Type of Position would be {benefits_top}\n",
    "Skills Required for this are {benefits_skills}\"\"\")\n",
    "\n",
    "benefits_and_perks('ThredUp Inc.')"
   ]
  }
 ],
 "metadata": {
  "kernelspec": {
   "display_name": "Python 3",
   "language": "python",
   "name": "python3"
  },
  "language_info": {
   "codemirror_mode": {
    "name": "ipython",
    "version": 3
   },
   "file_extension": ".py",
   "mimetype": "text/x-python",
   "name": "python",
   "nbconvert_exporter": "python",
   "pygments_lexer": "ipython3",
   "version": "3.11.4"
  }
 },
 "nbformat": 4,
 "nbformat_minor": 2
}
