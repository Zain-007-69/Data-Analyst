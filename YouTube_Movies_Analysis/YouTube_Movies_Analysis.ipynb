{
 "cells": [
  {
   "cell_type": "markdown",
   "metadata": {},
   "source": [
    "# **YouTube Movies Analysis**"
   ]
  },
  {
   "cell_type": "code",
   "execution_count": 80,
   "metadata": {},
   "outputs": [],
   "source": [
    "import pandas as pd \n",
    "import matplotlib.pyplot as plt\n",
    "import seaborn as sns"
   ]
  },
  {
   "cell_type": "code",
   "execution_count": 81,
   "metadata": {},
   "outputs": [
    {
     "data": {
      "text/html": [
       "<div>\n",
       "<style scoped>\n",
       "    .dataframe tbody tr th:only-of-type {\n",
       "        vertical-align: middle;\n",
       "    }\n",
       "\n",
       "    .dataframe tbody tr th {\n",
       "        vertical-align: top;\n",
       "    }\n",
       "\n",
       "    .dataframe thead th {\n",
       "        text-align: right;\n",
       "    }\n",
       "</style>\n",
       "<table border=\"1\" class=\"dataframe\">\n",
       "  <thead>\n",
       "    <tr style=\"text-align: right;\">\n",
       "      <th></th>\n",
       "      <th>name</th>\n",
       "      <th>trailer_link</th>\n",
       "      <th>video_id</th>\n",
       "      <th>sentiment_scores</th>\n",
       "      <th>favorability</th>\n",
       "      <th>rating</th>\n",
       "      <th>genre</th>\n",
       "      <th>year</th>\n",
       "      <th>released</th>\n",
       "      <th>votes</th>\n",
       "      <th>director</th>\n",
       "      <th>writer</th>\n",
       "      <th>star</th>\n",
       "      <th>country</th>\n",
       "      <th>budget</th>\n",
       "      <th>gross</th>\n",
       "      <th>company</th>\n",
       "      <th>runtime</th>\n",
       "    </tr>\n",
       "  </thead>\n",
       "  <tbody>\n",
       "    <tr>\n",
       "      <th>0</th>\n",
       "      <td>Harry Potter and the Goblet of Fire</td>\n",
       "      <td>https://www.youtube.com/watch?v=3EGojp4Hh6I</td>\n",
       "      <td>3EGojp4Hh6I</td>\n",
       "      <td>{'positive': 87, 'neutral': 112, 'negative': 51}</td>\n",
       "      <td>0.630435</td>\n",
       "      <td>PG-13</td>\n",
       "      <td>Adventure</td>\n",
       "      <td>2005</td>\n",
       "      <td>November 18, 2005 (United States)</td>\n",
       "      <td>566000.0</td>\n",
       "      <td>Mike Newell</td>\n",
       "      <td>Steve Kloves</td>\n",
       "      <td>Daniel Radcliffe</td>\n",
       "      <td>United Kingdom</td>\n",
       "      <td>150000000.0</td>\n",
       "      <td>896678241.0</td>\n",
       "      <td>Warner Bros.</td>\n",
       "      <td>157.0</td>\n",
       "    </tr>\n",
       "    <tr>\n",
       "      <th>1</th>\n",
       "      <td>The 40-Year-Old Virgin</td>\n",
       "      <td>https://www.youtube.com/watch?v=YnDeJn-BX5Q</td>\n",
       "      <td>YnDeJn-BX5Q</td>\n",
       "      <td>{'positive': 40, 'neutral': 45, 'negative': 18}</td>\n",
       "      <td>0.689655</td>\n",
       "      <td>R</td>\n",
       "      <td>Comedy</td>\n",
       "      <td>2005</td>\n",
       "      <td>August 19, 2005 (United States)</td>\n",
       "      <td>407000.0</td>\n",
       "      <td>Judd Apatow</td>\n",
       "      <td>Judd Apatow</td>\n",
       "      <td>Steve Carell</td>\n",
       "      <td>United States</td>\n",
       "      <td>26000000.0</td>\n",
       "      <td>177378645.0</td>\n",
       "      <td>Universal Pictures</td>\n",
       "      <td>116.0</td>\n",
       "    </tr>\n",
       "    <tr>\n",
       "      <th>2</th>\n",
       "      <td>Memoirs of a Geisha</td>\n",
       "      <td>https://www.youtube.com/watch?v=4L-xlmakQvc</td>\n",
       "      <td>4L-xlmakQvc</td>\n",
       "      <td>{'positive': 120, 'neutral': 89, 'negative': 41}</td>\n",
       "      <td>0.745342</td>\n",
       "      <td>PG-13</td>\n",
       "      <td>Drama</td>\n",
       "      <td>2005</td>\n",
       "      <td>December 23, 2005 (United States)</td>\n",
       "      <td>141000.0</td>\n",
       "      <td>Rob Marshall</td>\n",
       "      <td>Robin Swicord</td>\n",
       "      <td>Ziyi Zhang</td>\n",
       "      <td>France</td>\n",
       "      <td>85000000.0</td>\n",
       "      <td>162242962.0</td>\n",
       "      <td>Columbia Pictures</td>\n",
       "      <td>145.0</td>\n",
       "    </tr>\n",
       "    <tr>\n",
       "      <th>3</th>\n",
       "      <td>Pride &amp; Prejudice</td>\n",
       "      <td>https://www.youtube.com/watch?v=Ur_DIHs92NM</td>\n",
       "      <td>Ur_DIHs92NM</td>\n",
       "      <td>{'positive': 93, 'neutral': 98, 'negative': 19}</td>\n",
       "      <td>0.830357</td>\n",
       "      <td>PG</td>\n",
       "      <td>Drama</td>\n",
       "      <td>2005</td>\n",
       "      <td>November 23, 2005 (United States)</td>\n",
       "      <td>269000.0</td>\n",
       "      <td>Joe Wright</td>\n",
       "      <td>Deborah Moggach</td>\n",
       "      <td>Keira Knightley</td>\n",
       "      <td>France</td>\n",
       "      <td>28000000.0</td>\n",
       "      <td>121616555.0</td>\n",
       "      <td>Focus Features</td>\n",
       "      <td>129.0</td>\n",
       "    </tr>\n",
       "    <tr>\n",
       "      <th>4</th>\n",
       "      <td>Batman Begins</td>\n",
       "      <td>https://www.youtube.com/watch?v=neY2xVmOfUM</td>\n",
       "      <td>neY2xVmOfUM</td>\n",
       "      <td>{'positive': 128, 'neutral': 97, 'negative': 25}</td>\n",
       "      <td>0.836601</td>\n",
       "      <td>PG-13</td>\n",
       "      <td>Action</td>\n",
       "      <td>2005</td>\n",
       "      <td>June 15, 2005 (United States)</td>\n",
       "      <td>1300000.0</td>\n",
       "      <td>Christopher Nolan</td>\n",
       "      <td>Bob Kane</td>\n",
       "      <td>Christian Bale</td>\n",
       "      <td>United Kingdom</td>\n",
       "      <td>150000000.0</td>\n",
       "      <td>373661946.0</td>\n",
       "      <td>Warner Bros.</td>\n",
       "      <td>140.0</td>\n",
       "    </tr>\n",
       "  </tbody>\n",
       "</table>\n",
       "</div>"
      ],
      "text/plain": [
       "                                  name  \\\n",
       "0  Harry Potter and the Goblet of Fire   \n",
       "1               The 40-Year-Old Virgin   \n",
       "2                  Memoirs of a Geisha   \n",
       "3                    Pride & Prejudice   \n",
       "4                        Batman Begins   \n",
       "\n",
       "                                  trailer_link     video_id  \\\n",
       "0  https://www.youtube.com/watch?v=3EGojp4Hh6I  3EGojp4Hh6I   \n",
       "1  https://www.youtube.com/watch?v=YnDeJn-BX5Q  YnDeJn-BX5Q   \n",
       "2  https://www.youtube.com/watch?v=4L-xlmakQvc  4L-xlmakQvc   \n",
       "3  https://www.youtube.com/watch?v=Ur_DIHs92NM  Ur_DIHs92NM   \n",
       "4  https://www.youtube.com/watch?v=neY2xVmOfUM  neY2xVmOfUM   \n",
       "\n",
       "                                   sentiment_scores  favorability rating  \\\n",
       "0  {'positive': 87, 'neutral': 112, 'negative': 51}      0.630435  PG-13   \n",
       "1   {'positive': 40, 'neutral': 45, 'negative': 18}      0.689655      R   \n",
       "2  {'positive': 120, 'neutral': 89, 'negative': 41}      0.745342  PG-13   \n",
       "3   {'positive': 93, 'neutral': 98, 'negative': 19}      0.830357     PG   \n",
       "4  {'positive': 128, 'neutral': 97, 'negative': 25}      0.836601  PG-13   \n",
       "\n",
       "       genre  year                           released      votes  \\\n",
       "0  Adventure  2005  November 18, 2005 (United States)   566000.0   \n",
       "1     Comedy  2005    August 19, 2005 (United States)   407000.0   \n",
       "2      Drama  2005  December 23, 2005 (United States)   141000.0   \n",
       "3      Drama  2005  November 23, 2005 (United States)   269000.0   \n",
       "4     Action  2005      June 15, 2005 (United States)  1300000.0   \n",
       "\n",
       "            director           writer              star         country  \\\n",
       "0        Mike Newell     Steve Kloves  Daniel Radcliffe  United Kingdom   \n",
       "1        Judd Apatow      Judd Apatow      Steve Carell   United States   \n",
       "2       Rob Marshall    Robin Swicord        Ziyi Zhang          France   \n",
       "3         Joe Wright  Deborah Moggach   Keira Knightley          France   \n",
       "4  Christopher Nolan         Bob Kane    Christian Bale  United Kingdom   \n",
       "\n",
       "        budget        gross             company  runtime  \n",
       "0  150000000.0  896678241.0        Warner Bros.    157.0  \n",
       "1   26000000.0  177378645.0  Universal Pictures    116.0  \n",
       "2   85000000.0  162242962.0   Columbia Pictures    145.0  \n",
       "3   28000000.0  121616555.0      Focus Features    129.0  \n",
       "4  150000000.0  373661946.0        Warner Bros.    140.0  "
      ]
     },
     "execution_count": 81,
     "metadata": {},
     "output_type": "execute_result"
    }
   ],
   "source": [
    "df = pd.read_csv('movies_youtube_sentiments.csv')\n",
    "df.head()"
   ]
  },
  {
   "cell_type": "markdown",
   "metadata": {},
   "source": [
    "## **1. Basic Information:**"
   ]
  },
  {
   "cell_type": "markdown",
   "metadata": {},
   "source": [
    "### What are the columns in the dataset?"
   ]
  },
  {
   "cell_type": "code",
   "execution_count": 82,
   "metadata": {},
   "outputs": [
    {
     "data": {
      "text/plain": [
       "Index(['name', 'trailer_link', 'video_id', 'sentiment_scores', 'favorability',\n",
       "       'rating', 'genre', 'year', 'released', 'votes', 'director', 'writer',\n",
       "       'star', 'country', 'budget', 'gross', 'company', 'runtime'],\n",
       "      dtype='object')"
      ]
     },
     "execution_count": 82,
     "metadata": {},
     "output_type": "execute_result"
    }
   ],
   "source": [
    "df.columns"
   ]
  },
  {
   "cell_type": "markdown",
   "metadata": {},
   "source": [
    "### How many rows are there in the dataset?"
   ]
  },
  {
   "cell_type": "code",
   "execution_count": 83,
   "metadata": {},
   "outputs": [
    {
     "name": "stdout",
     "output_type": "stream",
     "text": [
      "Total rows in dataset are 1105\n"
     ]
    }
   ],
   "source": [
    "print('Total rows in dataset are',df.shape[0])"
   ]
  },
  {
   "cell_type": "markdown",
   "metadata": {},
   "source": [
    "### What is the datatype of each column?"
   ]
  },
  {
   "cell_type": "code",
   "execution_count": 84,
   "metadata": {},
   "outputs": [
    {
     "name": "stdout",
     "output_type": "stream",
     "text": [
      "<class 'pandas.core.frame.DataFrame'>\n",
      "RangeIndex: 1105 entries, 0 to 1104\n",
      "Data columns (total 18 columns):\n",
      " #   Column            Non-Null Count  Dtype  \n",
      "---  ------            --------------  -----  \n",
      " 0   name              1105 non-null   object \n",
      " 1   trailer_link      1105 non-null   object \n",
      " 2   video_id          1105 non-null   object \n",
      " 3   sentiment_scores  1105 non-null   object \n",
      " 4   favorability      1105 non-null   float64\n",
      " 5   rating            1104 non-null   object \n",
      " 6   genre             1105 non-null   object \n",
      " 7   year              1105 non-null   int64  \n",
      " 8   released          1105 non-null   object \n",
      " 9   votes             1105 non-null   float64\n",
      " 10  director          1105 non-null   object \n",
      " 11  writer            1104 non-null   object \n",
      " 12  star              1105 non-null   object \n",
      " 13  country           1105 non-null   object \n",
      " 14  budget            901 non-null    float64\n",
      " 15  gross             1105 non-null   float64\n",
      " 16  company           1105 non-null   object \n",
      " 17  runtime           1104 non-null   float64\n",
      "dtypes: float64(5), int64(1), object(12)\n",
      "memory usage: 155.5+ KB\n"
     ]
    }
   ],
   "source": [
    "df.info()"
   ]
  },
  {
   "cell_type": "markdown",
   "metadata": {},
   "source": [
    "## **2. Data Cleaning:**"
   ]
  },
  {
   "cell_type": "markdown",
   "metadata": {},
   "source": [
    "### Are there any missing values in the dataset? If so, how are they distributed across columns?"
   ]
  },
  {
   "cell_type": "code",
   "execution_count": 85,
   "metadata": {},
   "outputs": [
    {
     "data": {
      "text/plain": [
       "name                  0\n",
       "trailer_link          0\n",
       "video_id              0\n",
       "sentiment_scores      0\n",
       "favorability          0\n",
       "rating                1\n",
       "genre                 0\n",
       "year                  0\n",
       "released              0\n",
       "votes                 0\n",
       "director              0\n",
       "writer                1\n",
       "star                  0\n",
       "country               0\n",
       "budget              204\n",
       "gross                 0\n",
       "company               0\n",
       "runtime               1\n",
       "dtype: int64"
      ]
     },
     "execution_count": 85,
     "metadata": {},
     "output_type": "execute_result"
    }
   ],
   "source": [
    "df.isnull().sum()"
   ]
  },
  {
   "cell_type": "markdown",
   "metadata": {},
   "source": [
    "### Are there any duplicate rows in the dataset?"
   ]
  },
  {
   "cell_type": "code",
   "execution_count": 86,
   "metadata": {},
   "outputs": [
    {
     "data": {
      "text/html": [
       "<div>\n",
       "<style scoped>\n",
       "    .dataframe tbody tr th:only-of-type {\n",
       "        vertical-align: middle;\n",
       "    }\n",
       "\n",
       "    .dataframe tbody tr th {\n",
       "        vertical-align: top;\n",
       "    }\n",
       "\n",
       "    .dataframe thead th {\n",
       "        text-align: right;\n",
       "    }\n",
       "</style>\n",
       "<table border=\"1\" class=\"dataframe\">\n",
       "  <thead>\n",
       "    <tr style=\"text-align: right;\">\n",
       "      <th></th>\n",
       "      <th>name</th>\n",
       "      <th>trailer_link</th>\n",
       "      <th>video_id</th>\n",
       "      <th>sentiment_scores</th>\n",
       "      <th>favorability</th>\n",
       "      <th>rating</th>\n",
       "      <th>genre</th>\n",
       "      <th>year</th>\n",
       "      <th>released</th>\n",
       "      <th>votes</th>\n",
       "      <th>director</th>\n",
       "      <th>writer</th>\n",
       "      <th>star</th>\n",
       "      <th>country</th>\n",
       "      <th>budget</th>\n",
       "      <th>gross</th>\n",
       "      <th>company</th>\n",
       "      <th>runtime</th>\n",
       "    </tr>\n",
       "  </thead>\n",
       "  <tbody>\n",
       "    <tr>\n",
       "      <th>407</th>\n",
       "      <td>The Girl with the Dragon Tattoo</td>\n",
       "      <td>https://www.youtube.com/watch?v=DqQe3OrsMKI</td>\n",
       "      <td>DqQe3OrsMKI</td>\n",
       "      <td>{'positive': 133, 'neutral': 70, 'negative': 47}</td>\n",
       "      <td>0.738889</td>\n",
       "      <td>R</td>\n",
       "      <td>Crime</td>\n",
       "      <td>2009</td>\n",
       "      <td>April 30, 2010 (United States)</td>\n",
       "      <td>211000.0</td>\n",
       "      <td>Niels Arden Oplev</td>\n",
       "      <td>Nikolaj Arcel</td>\n",
       "      <td>Michael Nyqvist</td>\n",
       "      <td>Sweden</td>\n",
       "      <td>13000000.0</td>\n",
       "      <td>104414200.0</td>\n",
       "      <td>Yellow Bird</td>\n",
       "      <td>152.0</td>\n",
       "    </tr>\n",
       "    <tr>\n",
       "      <th>408</th>\n",
       "      <td>The Girl with the Dragon Tattoo</td>\n",
       "      <td>https://www.youtube.com/watch?v=DqQe3OrsMKI</td>\n",
       "      <td>DqQe3OrsMKI</td>\n",
       "      <td>{'positive': 133, 'neutral': 70, 'negative': 47}</td>\n",
       "      <td>0.738889</td>\n",
       "      <td>R</td>\n",
       "      <td>Crime</td>\n",
       "      <td>2011</td>\n",
       "      <td>December 21, 2011 (United States)</td>\n",
       "      <td>435000.0</td>\n",
       "      <td>David Fincher</td>\n",
       "      <td>Steven Zaillian</td>\n",
       "      <td>Daniel Craig</td>\n",
       "      <td>United States</td>\n",
       "      <td>90000000.0</td>\n",
       "      <td>232617430.0</td>\n",
       "      <td>Columbia Pictures</td>\n",
       "      <td>158.0</td>\n",
       "    </tr>\n",
       "  </tbody>\n",
       "</table>\n",
       "</div>"
      ],
      "text/plain": [
       "                                name  \\\n",
       "407  The Girl with the Dragon Tattoo   \n",
       "408  The Girl with the Dragon Tattoo   \n",
       "\n",
       "                                    trailer_link     video_id  \\\n",
       "407  https://www.youtube.com/watch?v=DqQe3OrsMKI  DqQe3OrsMKI   \n",
       "408  https://www.youtube.com/watch?v=DqQe3OrsMKI  DqQe3OrsMKI   \n",
       "\n",
       "                                     sentiment_scores  favorability rating  \\\n",
       "407  {'positive': 133, 'neutral': 70, 'negative': 47}      0.738889      R   \n",
       "408  {'positive': 133, 'neutral': 70, 'negative': 47}      0.738889      R   \n",
       "\n",
       "     genre  year                           released     votes  \\\n",
       "407  Crime  2009     April 30, 2010 (United States)  211000.0   \n",
       "408  Crime  2011  December 21, 2011 (United States)  435000.0   \n",
       "\n",
       "              director           writer             star        country  \\\n",
       "407  Niels Arden Oplev    Nikolaj Arcel  Michael Nyqvist         Sweden   \n",
       "408      David Fincher  Steven Zaillian     Daniel Craig  United States   \n",
       "\n",
       "         budget        gross            company  runtime  \n",
       "407  13000000.0  104414200.0        Yellow Bird    152.0  \n",
       "408  90000000.0  232617430.0  Columbia Pictures    158.0  "
      ]
     },
     "execution_count": 86,
     "metadata": {},
     "output_type": "execute_result"
    }
   ],
   "source": [
    "df[df.duplicated()]"
   ]
  },
  {
   "cell_type": "markdown",
   "metadata": {},
   "source": [
    "## **3. Data Understanding:**"
   ]
  },
  {
   "cell_type": "markdown",
   "metadata": {},
   "source": [
    "### What is the distribution of movies across different genres?"
   ]
  },
  {
   "cell_type": "code",
   "execution_count": 87,
   "metadata": {},
   "outputs": [
    {
     "data": {
      "text/plain": [
       "0        Action\n",
       "1     Adventure\n",
       "2     Animation\n",
       "3     Biography\n",
       "4        Comedy\n",
       "5         Crime\n",
       "6         Drama\n",
       "7       Fantasy\n",
       "8        Horror\n",
       "9       Mystery\n",
       "10      Romance\n",
       "11       Sci-Fi\n",
       "12     Thriller\n",
       "Name: 0, dtype: object"
      ]
     },
     "execution_count": 87,
     "metadata": {},
     "output_type": "execute_result"
    }
   ],
   "source": [
    "pd.DataFrame(df.groupby('genre'))[0]"
   ]
  },
  {
   "cell_type": "markdown",
   "metadata": {},
   "source": [
    "### How many unique directors, writers, and stars are there in the dataset?"
   ]
  },
  {
   "cell_type": "code",
   "execution_count": 88,
   "metadata": {},
   "outputs": [
    {
     "data": {
      "text/plain": [
       "0          Aaron Sorkin\n",
       "1             Abby Kohn\n",
       "2           Adam Brooks\n",
       "3            Adam McKay\n",
       "4           Adam Rifkin\n",
       "             ...       \n",
       "767         Xavier Gens\n",
       "768        Yong-hwa Kim\n",
       "769    Yorgos Lanthimos\n",
       "770         Zack Snyder\n",
       "771      Zal Batmanglij\n",
       "Name: 0, Length: 772, dtype: object"
      ]
     },
     "execution_count": 88,
     "metadata": {},
     "output_type": "execute_result"
    }
   ],
   "source": [
    "pd.DataFrame(df.groupby('director'))[0]"
   ]
  },
  {
   "cell_type": "code",
   "execution_count": 89,
   "metadata": {},
   "outputs": [
    {
     "data": {
      "text/plain": [
       "0      Aaron Guzikowski\n",
       "1          Aaron Sorkin\n",
       "2             Abby Kohn\n",
       "3         Abdi Nazemian\n",
       "4      Adam 'Tex' Davis\n",
       "             ...       \n",
       "879         Zack Snyder\n",
       "880      Zal Batmanglij\n",
       "881           Zoe Kazan\n",
       "882         Àlex Pastor\n",
       "883          Émile Zola\n",
       "Name: 0, Length: 884, dtype: object"
      ]
     },
     "execution_count": 89,
     "metadata": {},
     "output_type": "execute_result"
    }
   ],
   "source": [
    "pd.DataFrame(df.groupby('writer'))[0]"
   ]
  },
  {
   "cell_type": "code",
   "execution_count": 90,
   "metadata": {},
   "outputs": [
    {
     "data": {
      "text/plain": [
       "0                Aamir Khan\n",
       "1             Aaron Eckhart\n",
       "2            Aaron Moorhead\n",
       "3                Aaron Paul\n",
       "4      Aaron Taylor-Johnson\n",
       "               ...         \n",
       "664              Zach Braff\n",
       "665          Zachary Quinto\n",
       "666              Ziyi Zhang\n",
       "667             Zoe Saldana\n",
       "668             Zoey Deutch\n",
       "Name: 0, Length: 669, dtype: object"
      ]
     },
     "execution_count": 90,
     "metadata": {},
     "output_type": "execute_result"
    }
   ],
   "source": [
    "pd.DataFrame(df.groupby('star'))[0]"
   ]
  },
  {
   "cell_type": "markdown",
   "metadata": {},
   "source": [
    "### What is the distribution of sentiment scores (positive, neutral, negative)?"
   ]
  },
  {
   "cell_type": "code",
   "execution_count": 91,
   "metadata": {},
   "outputs": [
    {
     "name": "stdout",
     "output_type": "stream",
     "text": [
      "Total Positive: 87153\n",
      "Total Negative: 42413\n",
      "Total Neutral: 76248\n"
     ]
    }
   ],
   "source": [
    "import ast\n",
    "\n",
    "def convert_to_dict(text):\n",
    "    return ast.literal_eval(text)\n",
    "\n",
    "df['sentiment_scores'] = df['sentiment_scores'].apply(convert_to_dict)\n",
    "\n",
    "def extract_sentiment_counts(row):\n",
    "    return row['positive'], row['negative'], row['neutral']\n",
    "\n",
    "df[['positive_count', 'negative_count', 'neutral_count']] = df['sentiment_scores'].apply(extract_sentiment_counts).apply(pd.Series)\n",
    "\n",
    "total_positive = df['positive_count'].sum()\n",
    "total_negative = df['negative_count'].sum()\n",
    "total_neutral = df['neutral_count'].sum()\n",
    "\n",
    "print(\"Total Positive:\", total_positive)\n",
    "print(\"Total Negative:\", total_negative)\n",
    "print(\"Total Neutral:\", total_neutral)"
   ]
  },
  {
   "cell_type": "markdown",
   "metadata": {},
   "source": [
    "### What is the distribution of favorability scores?"
   ]
  },
  {
   "cell_type": "code",
   "execution_count": 92,
   "metadata": {},
   "outputs": [
    {
     "data": {
      "image/png": "[encoded data removed]",
      "text/plain": [
       "<Figure size 640x480 with 1 Axes>"
      ]
     },
     "metadata": {},
     "output_type": "display_data"
    }
   ],
   "source": [
    "def calculate_favorability_score(row):\n",
    "    total_count = sum(row.values())\n",
    "    return (row['positive'] - row['negative']) / total_count if total_count > 0 else 0\n",
    "\n",
    "df['favorability'] = df['sentiment_scores'].apply(calculate_favorability_score)\n",
    "\n",
    "df['favorability'].plot(kind='hist', bins=10, color='skyblue', edgecolor='black')\n",
    "\n",
    "plt.xlabel('Favorability Score')\n",
    "plt.ylabel('Frequency')\n",
    "plt.title('Distribution of Favorability Scores')\n",
    "\n",
    "plt.show()"
   ]
  },
  {
   "cell_type": "markdown",
   "metadata": {},
   "source": [
    "### How are sentiment scores correlated with favorability scores?"
   ]
  },
  {
   "cell_type": "code",
   "execution_count": 93,
   "metadata": {},
   "outputs": [
    {
     "name": "stdout",
     "output_type": "stream",
     "text": [
      "Correlation between sentiment_scores and favorability: -0.1104094175492758\n"
     ]
    }
   ],
   "source": [
    "df['sentiment_scores_sum'] = df['sentiment_scores'].apply(lambda x: sum(x.values()))\n",
    "\n",
    "correlation = df['sentiment_scores_sum'].corr(df['favorability'])\n",
    "\n",
    "print(\"Correlation between sentiment_scores and favorability:\", correlation)"
   ]
  },
  {
   "cell_type": "markdown",
   "metadata": {},
   "source": [
    "## **4. Exploratory Visualization:**"
   ]
  },
  {
   "cell_type": "markdown",
   "metadata": {},
   "source": [
    "### Plot a histogram of sentiment scores."
   ]
  },
  {
   "cell_type": "code",
   "execution_count": 94,
   "metadata": {},
   "outputs": [
    {
     "data": {
      "image/png": "[encoded data removed]",
      "text/plain": [
       "<Figure size 640x480 with 1 Axes>"
      ]
     },
     "metadata": {},
     "output_type": "display_data"
    }
   ],
   "source": [
    "df['sentiment_scores'] = df['sentiment_scores'].apply(lambda x: sum(x.values()))\n",
    "\n",
    "plt.hist(df['sentiment_scores'], bins=5, color='skyblue', edgecolor='black')\n",
    "\n",
    "plt.xlabel('Sentiment Score')\n",
    "plt.ylabel('Frequency')\n",
    "plt.title('Histogram of Sentiment Scores')\n",
    "\n",
    "plt.show()"
   ]
  },
  {
   "cell_type": "markdown",
   "metadata": {},
   "source": [
    "### Plot a bar chart showing the number of movies released each year."
   ]
  },
  {
   "cell_type": "code",
   "execution_count": 98,
   "metadata": {},
   "outputs": [
    {
     "data": {
      "image/png": "[encoded data removed]",
      "text/plain": [
       "<Figure size 640x480 with 1 Axes>"
      ]
     },
     "metadata": {},
     "output_type": "display_data"
    }
   ],
   "source": [
    "movies_per_year = df['year'].value_counts().sort_index()\n",
    "\n",
    "plt.bar(movies_per_year.index, movies_per_year.values, color='skyblue', edgecolor='black')\n",
    "\n",
    "plt.xlabel('Year')\n",
    "plt.ylabel('Number of Movies')\n",
    "plt.title('Number of Movies Released Each Year')\n",
    "plt.show()"
   ]
  },
  {
   "cell_type": "markdown",
   "metadata": {},
   "source": [
    "### Visualize the distribution of favorability scores using a box plot"
   ]
  },
  {
   "cell_type": "code",
   "execution_count": 104,
   "metadata": {},
   "outputs": [
    {
     "data": {
      "image/png": "[encoded data removed]",
      "text/plain": [
       "<Figure size 640x480 with 1 Axes>"
      ]
     },
     "metadata": {},
     "output_type": "display_data"
    }
   ],
   "source": [
    "sns.boxplot(df['favorability'],orient='y',color='darkblue')\n",
    "plt.show()"
   ]
  },
  {
   "cell_type": "markdown",
   "metadata": {},
   "source": [
    "### Plot a scatter plot showing the relationship between budget and gross revenue."
   ]
  },
  {
   "cell_type": "code",
   "execution_count": 108,
   "metadata": {},
   "outputs": [
    {
     "data": {
      "image/png": "[encoded data removed]",
      "text/plain": [
       "<Figure size 640x480 with 1 Axes>"
      ]
     },
     "metadata": {},
     "output_type": "display_data"
    }
   ],
   "source": [
    "plt.scatter(df['budget'],df['gross'])\n",
    "plt.xlabel('Budget')\n",
    "plt.ylabel('Gross')\n",
    "plt.title('Relationship between budget and gross')\n",
    "plt.show()"
   ]
  },
  {
   "cell_type": "markdown",
   "metadata": {},
   "source": [
    "## **5. Advanced Analysis:**"
   ]
  },
  {
   "cell_type": "markdown",
   "metadata": {},
   "source": [
    "### Is there a correlation between sentiment scores and box office performance (e.g., gross revenue)?"
   ]
  },
  {
   "cell_type": "code",
   "execution_count": 115,
   "metadata": {},
   "outputs": [
    {
     "name": "stdout",
     "output_type": "stream",
     "text": [
      "Correlation between aggregated sentiment scores and box office performance: nan\n"
     ]
    }
   ],
   "source": [
    "def aggregate_sentiment_score(score):\n",
    "    if isinstance(score, dict):\n",
    "        return score.get('positive', 0) - score.get('negative', 0)\n",
    "    else:\n",
    "        return 0\n",
    "df['aggregated_sentiment_score'] = df['sentiment_scores'].apply(aggregate_sentiment_score)\n",
    "\n",
    "correlation = df['aggregated_sentiment_score'].corr(df['gross'])\n",
    "\n",
    "print(\"Correlation between aggregated sentiment scores and box office performance:\", correlation)"
   ]
  },
  {
   "cell_type": "markdown",
   "metadata": {},
   "source": [
    "### Are certain genres more likely to receive positive sentiment scores?"
   ]
  },
  {
   "cell_type": "code",
   "execution_count": 127,
   "metadata": {},
   "outputs": [
    {
     "name": "stdout",
     "output_type": "stream",
     "text": [
      "Average sentiment score by genre:\n",
      "genre\n",
      "Action       0.0\n",
      "Adventure    0.0\n",
      "Animation    0.0\n",
      "Biography    0.0\n",
      "Comedy       0.0\n",
      "Crime        0.0\n",
      "Drama        0.0\n",
      "Fantasy      0.0\n",
      "Horror       0.0\n",
      "Mystery      0.0\n",
      "Romance      0.0\n",
      "Sci-Fi       0.0\n",
      "Thriller     0.0\n",
      "Name: aggregated_sentiment_score, dtype: float64\n"
     ]
    }
   ],
   "source": [
    "def aggregate_sentiment_score(score):\n",
    "    if isinstance(score, dict):\n",
    "        return score.get('positive', 0) - score.get('negative', 0)\n",
    "    else:\n",
    "        return 0\n",
    "\n",
    "df['aggregated_sentiment_score'] = df['sentiment_scores'].apply(aggregate_sentiment_score)\n",
    "\n",
    "genre_sentiment_avg = df.groupby('genre')['aggregated_sentiment_score'].mean()\n",
    "\n",
    "print(\"Average sentiment score by genre:\")\n",
    "print(genre_sentiment_avg)"
   ]
  },
  {
   "cell_type": "markdown",
   "metadata": {},
   "source": [
    "### Are movies with higher budgets more likely to have positive sentiment scores?"
   ]
  },
  {
   "cell_type": "code",
   "execution_count": 132,
   "metadata": {},
   "outputs": [
    {
     "name": "stdout",
     "output_type": "stream",
     "text": [
      "Correlation between budget and sentiment score: nan\n"
     ]
    }
   ],
   "source": [
    "def aggregate_sentiment_score(score):\n",
    "    if isinstance(score, dict):\n",
    "        return score.get('positive', 0) - score.get('negative', 0)\n",
    "    else:\n",
    "        return None\n",
    "\n",
    "df['aggregated_sentiment_score'] = df['sentiment_scores'].apply(aggregate_sentiment_score)\n",
    "\n",
    "df_filtered = df.dropna(subset=['aggregated_sentiment_score'])\n",
    "\n",
    "correlation = df_filtered['budget'].corr(df_filtered['aggregated_sentiment_score'])\n",
    "\n",
    "print(\"Correlation between budget and sentiment score:\", correlation)"
   ]
  }
 ],
 "metadata": {
  "kernelspec": {
   "display_name": "Python 3",
   "language": "python",
   "name": "python3"
  },
  "language_info": {
   "codemirror_mode": {
    "name": "ipython",
    "version": 3
   },
   "file_extension": ".py",
   "mimetype": "text/x-python",
   "name": "python",
   "nbconvert_exporter": "python",
   "pygments_lexer": "ipython3",
   "version": "3.11.4"
  }
 },
 "nbformat": 4,
 "nbformat_minor": 2
}
